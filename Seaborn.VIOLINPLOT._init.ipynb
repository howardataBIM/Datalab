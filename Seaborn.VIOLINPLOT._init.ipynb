{
 "cells": [
  {
   "cell_type": "markdown",
   "id": "c687f124-81e5-489a-b9b3-79caac717a6e",
   "metadata": {},
   "source": [
    "# ----------------Seaborn VIOLINPLOT --------------------------"
   ]
  },
  {
   "cell_type": "markdown",
   "id": "ae1fde98-2038-4963-b91e-1cf477e4b2a3",
   "metadata": {},
   "source": [
    "# 1.Import al the required libraries"
   ]
  },
  {
   "cell_type": "code",
   "execution_count": null,
   "id": "88e3828f-b623-4a4f-90da-9e9b8b3a634d",
   "metadata": {},
   "outputs": [],
   "source": []
  },
  {
   "cell_type": "markdown",
   "id": "e93e1006-ef3d-412a-b026-3057774349d7",
   "metadata": {
    "tags": []
   },
   "source": [
    "# 2.Import the supermart data excel file"
   ]
  },
  {
   "cell_type": "code",
   "execution_count": null,
   "id": "6f6c84d7-0bb7-499b-af8f-395a19e7d95f",
   "metadata": {},
   "outputs": [],
   "source": []
  },
  {
   "cell_type": "markdown",
   "id": "b171a7e9-f835-4e25-bf22-4490e2c1a569",
   "metadata": {
    "tags": []
   },
   "source": [
    "# 3.Create a basic VIOLINPLOT"
   ]
  },
  {
   "cell_type": "code",
   "execution_count": null,
   "id": "4eb61ce3-0be5-4d52-b739-6adaf80af1cf",
   "metadata": {},
   "outputs": [],
   "source": []
  },
  {
   "cell_type": "markdown",
   "id": "b3c9b6a6-3054-41cb-8bc9-2e675257e56d",
   "metadata": {
    "tags": []
   },
   "source": [
    "# 4.Create a VIOLINPLOT on two categorical and one numeric variable and use split"
   ]
  },
  {
   "cell_type": "code",
   "execution_count": null,
   "id": "fb3fe1e9-f6ab-4d5a-9735-f6f7da6af391",
   "metadata": {},
   "outputs": [],
   "source": []
  },
  {
   "cell_type": "markdown",
   "id": "549d64e9-c53a-4c8f-9829-274ec4f7e1df",
   "metadata": {
    "tags": []
   },
   "source": [
    "# 5.Change the box in the VIOLINPLOT to horizontal lines"
   ]
  },
  {
   "cell_type": "code",
   "execution_count": null,
   "id": "f475781f-267f-41d3-ad17-e53f01a1b74a",
   "metadata": {},
   "outputs": [],
   "source": []
  },
  {
   "cell_type": "markdown",
   "id": "7242301f-58ca-4d61-b142-38b50b82dadd",
   "metadata": {
    "tags": []
   },
   "source": [
    "# 6.Draw line for each observation in a VIOLINPLOT"
   ]
  },
  {
   "cell_type": "code",
   "execution_count": null,
   "id": "8122c96d-b817-452e-80c1-ff6b1b08ebab",
   "metadata": {},
   "outputs": [],
   "source": []
  },
  {
   "cell_type": "markdown",
   "id": "28522536-0734-43c2-b44d-056a1c2dd113",
   "metadata": {
    "tags": []
   },
   "source": [
    "# 7.Change the amount of smoothing using bw attribute"
   ]
  },
  {
   "cell_type": "code",
   "execution_count": null,
   "id": "bcfecb02-4b36-4d57-be8e-08c8e1c5d5ff",
   "metadata": {},
   "outputs": [],
   "source": []
  },
  {
   "cell_type": "markdown",
   "id": "124f67d8-985a-4b9d-9c8d-a9da011bf0b1",
   "metadata": {},
   "source": [
    "# 8. Cut out the extreme values"
   ]
  },
  {
   "cell_type": "code",
   "execution_count": null,
   "id": "e51138e1-230e-4eb9-ba20-425ec4081ebd",
   "metadata": {},
   "outputs": [],
   "source": []
  },
  {
   "cell_type": "code",
   "execution_count": null,
   "id": "09a72ad1-c7e1-4660-8bd4-da44ffc8f4e0",
   "metadata": {},
   "outputs": [],
   "source": []
  }
 ],
 "metadata": {
  "kernelspec": {
   "display_name": "Python 3 (ipykernel)",
   "language": "python",
   "name": "python3"
  },
  "language_info": {
   "codemirror_mode": {
    "name": "ipython",
    "version": 3
   },
   "file_extension": ".py",
   "mimetype": "text/x-python",
   "name": "python",
   "nbconvert_exporter": "python",
   "pygments_lexer": "ipython3",
   "version": "3.11.7"
  }
 },
 "nbformat": 4,
 "nbformat_minor": 5
}
